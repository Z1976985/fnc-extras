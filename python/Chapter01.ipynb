{
 "cells": [
  {
   "cell_type": "code",
   "execution_count": 2,
   "metadata": {},
   "outputs": [],
   "source": [
    "from scipy import *\n",
    "import numpy as np\n",
    "import FNC"
   ]
  },
  {
   "cell_type": "markdown",
   "metadata": {},
   "source": [
    "# Example 1.1.2"
   ]
  },
  {
   "cell_type": "markdown",
   "metadata": {},
   "source": [
    "Recall the grade-school approximation to the number $\\pi$.\n",
    "\n",
    "$$\n",
    "f(x) = \\sin(x^2)\n",
    "$$"
   ]
  },
  {
   "cell_type": "code",
   "execution_count": 2,
   "metadata": {},
   "outputs": [
    {
     "name": "stdout",
     "output_type": "stream",
     "text": [
      "3.142857142857143\n"
     ]
    }
   ],
   "source": [
    "p = 22/7\n",
    "print(p)"
   ]
  },
  {
   "cell_type": "markdown",
   "metadata": {},
   "source": [
    "Note that not all the digits displayed for `p` are the same as for $\\pi$. As an approximation, its absolute and relative accuracy are"
   ]
  },
  {
   "cell_type": "code",
   "execution_count": 3,
   "metadata": {},
   "outputs": [
    {
     "name": "stdout",
     "output_type": "stream",
     "text": [
      "absolute accuracy:  0.0012644892673496777\n"
     ]
    }
   ],
   "source": [
    "from numpy import pi\n",
    "print(\"absolute accuracy: \",abs(p-pi))"
   ]
  },
  {
   "cell_type": "code",
   "execution_count": 4,
   "metadata": {},
   "outputs": [
    {
     "name": "stdout",
     "output_type": "stream",
     "text": [
      "relative accuracy:  0.0004024994347707008\n",
      "accurate digits:  3.3952347251747166\n"
     ]
    }
   ],
   "source": [
    "print(\"relative accuracy: \",abs(p-pi)/pi)\n",
    "print(\"accurate digits: \",-np.log10(abs(p-pi)/pi))"
   ]
  },
  {
   "cell_type": "markdown",
   "metadata": {},
   "source": [
    "# Example 1.1.3"
   ]
  },
  {
   "cell_type": "markdown",
   "metadata": {},
   "source": [
    "There is no double precision number between $1$ and $1+\\varepsilon_\\text{mach}$. Thus the following difference is zero despite its appearance."
   ]
  },
  {
   "cell_type": "code",
   "execution_count": 24,
   "metadata": {
    "scrolled": false
   },
   "outputs": [],
   "source": [
    "finfo = np.finfo(np.float32)"
   ]
  },
  {
   "cell_type": "code",
   "execution_count": 25,
   "metadata": {},
   "outputs": [
    {
     "data": {
      "text/plain": [
       "1.1920929e-07"
      ]
     },
     "execution_count": 25,
     "metadata": {},
     "output_type": "execute_result"
    }
   ],
   "source": [
    "finfo.eps"
   ]
  },
  {
   "cell_type": "code",
   "execution_count": 19,
   "metadata": {},
   "outputs": [
    {
     "data": {
      "text/plain": [
       "dtype('float64')"
      ]
     },
     "execution_count": 19,
     "metadata": {},
     "output_type": "execute_result"
    }
   ],
   "source": [
    "finfo.dtype"
   ]
  },
  {
   "cell_type": "code",
   "execution_count": 6,
   "metadata": {},
   "outputs": [
    {
     "data": {
      "text/plain": [
       "2.220446049250313e-16"
      ]
     },
     "execution_count": 6,
     "metadata": {},
     "output_type": "execute_result"
    }
   ],
   "source": [
    "eps = np.finfo(float).eps\n",
    "eps"
   ]
  },
  {
   "cell_type": "code",
   "execution_count": 7,
   "metadata": {},
   "outputs": [
    {
     "data": {
      "text/plain": [
       "1.1102230246251565e-16"
      ]
     },
     "execution_count": 7,
     "metadata": {},
     "output_type": "execute_result"
    }
   ],
   "source": [
    "e = eps/2\n",
    "e"
   ]
  },
  {
   "cell_type": "code",
   "execution_count": 9,
   "metadata": {},
   "outputs": [
    {
     "data": {
      "text/plain": [
       "1.0000000000000002"
      ]
     },
     "execution_count": 9,
     "metadata": {},
     "output_type": "execute_result"
    }
   ],
   "source": [
    "1.0 + eps"
   ]
  },
  {
   "cell_type": "code",
   "execution_count": 10,
   "metadata": {},
   "outputs": [
    {
     "data": {
      "text/plain": [
       "1.0"
      ]
     },
     "execution_count": 10,
     "metadata": {},
     "output_type": "execute_result"
    }
   ],
   "source": [
    "1.0 + eps/2 "
   ]
  },
  {
   "cell_type": "code",
   "execution_count": 12,
   "metadata": {},
   "outputs": [
    {
     "data": {
      "text/plain": [
       "False"
      ]
     },
     "execution_count": 12,
     "metadata": {},
     "output_type": "execute_result"
    }
   ],
   "source": [
    "(1.0 + eps/2) - 1.0 == eps/2"
   ]
  },
  {
   "cell_type": "markdown",
   "metadata": {},
   "source": [
    "However, $1-\\varepsilon_\\text{mach}/2$ is a double precision number, so it and its negative are represented exactly:"
   ]
  },
  {
   "cell_type": "code",
   "execution_count": 14,
   "metadata": {},
   "outputs": [
    {
     "data": {
      "text/plain": [
       "True"
      ]
     },
     "execution_count": 14,
     "metadata": {},
     "output_type": "execute_result"
    }
   ],
   "source": [
    "1.0 + (eps/2 - 1.0) == eps/2"
   ]
  },
  {
   "cell_type": "markdown",
   "metadata": {},
   "source": [
    "This is now the \"correct\" result. But we have found a rather shocking breakdown of the associative law of addition!"
   ]
  },
  {
   "cell_type": "markdown",
   "metadata": {},
   "source": [
    "# Example 1.3.2"
   ]
  },
  {
   "cell_type": "markdown",
   "metadata": {},
   "source": [
    "Here we show how to use `horner` to evaluate a polynomial. We first define a vector of the coefficients of $p(x)=(x−1)^3=x^3−3x^2+3x−1$, in descending degree order. Note that the textbook's functions are all in a namespace called `FNC`, to help distinguish them from other Python commands and modules.\n"
   ]
  },
  {
   "cell_type": "code",
   "execution_count": 3,
   "metadata": {},
   "outputs": [
    {
     "name": "stdout",
     "output_type": "stream",
     "text": [
      "0.21600000000000041\n"
     ]
    }
   ],
   "source": [
    "c = np.array([1,-3,3,-1])\n",
    "print( FNC.horner(c,1.6) )"
   ]
  },
  {
   "cell_type": "code",
   "execution_count": 4,
   "metadata": {},
   "outputs": [
    {
     "data": {
      "text/plain": [
       "0.2160000000000001"
      ]
     },
     "execution_count": 4,
     "metadata": {},
     "output_type": "execute_result"
    }
   ],
   "source": [
    "(1.6 - 1)**3"
   ]
  },
  {
   "cell_type": "markdown",
   "metadata": {},
   "source": [
    "The above is the value of $p(1.6)$, up to a rounding error."
   ]
  },
  {
   "cell_type": "markdown",
   "metadata": {},
   "source": [
    "# Example 1.3.3"
   ]
  },
  {
   "cell_type": "markdown",
   "metadata": {},
   "source": [
    "Our first step is to construct a polynomial with six known roots."
   ]
  },
  {
   "cell_type": "code",
   "execution_count": 6,
   "metadata": {},
   "outputs": [
    {
     "name": "stdout",
     "output_type": "stream",
     "text": [
      "Help on function poly in module numpy:\n",
      "\n",
      "poly(seq_of_zeros)\n",
      "    Find the coefficients of a polynomial with the given sequence of roots.\n",
      "    \n",
      "    .. note::\n",
      "       This forms part of the old polynomial API. Since version 1.4, the\n",
      "       new polynomial API defined in `numpy.polynomial` is preferred.\n",
      "       A summary of the differences can be found in the\n",
      "       :doc:`transition guide </reference/routines.polynomials>`.\n",
      "    \n",
      "    Returns the coefficients of the polynomial whose leading coefficient\n",
      "    is one for the given sequence of zeros (multiple roots must be included\n",
      "    in the sequence as many times as their multiplicity; see Examples).\n",
      "    A square matrix (or array, which will be treated as a matrix) can also\n",
      "    be given, in which case the coefficients of the characteristic polynomial\n",
      "    of the matrix are returned.\n",
      "    \n",
      "    Parameters\n",
      "    ----------\n",
      "    seq_of_zeros : array_like, shape (N,) or (N, N)\n",
      "        A sequence of polynomial roots, or a square array or matrix object.\n",
      "    \n",
      "    Returns\n",
      "    -------\n",
      "    c : ndarray\n",
      "        1D array of polynomial coefficients from highest to lowest degree:\n",
      "    \n",
      "        ``c[0] * x**(N) + c[1] * x**(N-1) + ... + c[N-1] * x + c[N]``\n",
      "        where c[0] always equals 1.\n",
      "    \n",
      "    Raises\n",
      "    ------\n",
      "    ValueError\n",
      "        If input is the wrong shape (the input must be a 1-D or square\n",
      "        2-D array).\n",
      "    \n",
      "    See Also\n",
      "    --------\n",
      "    polyval : Compute polynomial values.\n",
      "    roots : Return the roots of a polynomial.\n",
      "    polyfit : Least squares polynomial fit.\n",
      "    poly1d : A one-dimensional polynomial class.\n",
      "    \n",
      "    Notes\n",
      "    -----\n",
      "    Specifying the roots of a polynomial still leaves one degree of\n",
      "    freedom, typically represented by an undetermined leading\n",
      "    coefficient. [1]_ In the case of this function, that coefficient -\n",
      "    the first one in the returned array - is always taken as one. (If\n",
      "    for some reason you have one other point, the only automatic way\n",
      "    presently to leverage that information is to use ``polyfit``.)\n",
      "    \n",
      "    The characteristic polynomial, :math:`p_a(t)`, of an `n`-by-`n`\n",
      "    matrix **A** is given by\n",
      "    \n",
      "        :math:`p_a(t) = \\mathrm{det}(t\\, \\mathbf{I} - \\mathbf{A})`,\n",
      "    \n",
      "    where **I** is the `n`-by-`n` identity matrix. [2]_\n",
      "    \n",
      "    References\n",
      "    ----------\n",
      "    .. [1] M. Sullivan and M. Sullivan, III, \"Algebra and Trignometry,\n",
      "       Enhanced With Graphing Utilities,\" Prentice-Hall, pg. 318, 1996.\n",
      "    \n",
      "    .. [2] G. Strang, \"Linear Algebra and Its Applications, 2nd Edition,\"\n",
      "       Academic Press, pg. 182, 1980.\n",
      "    \n",
      "    Examples\n",
      "    --------\n",
      "    Given a sequence of a polynomial's zeros:\n",
      "    \n",
      "    >>> np.poly((0, 0, 0)) # Multiple root example\n",
      "    array([1., 0., 0., 0.])\n",
      "    \n",
      "    The line above represents z**3 + 0*z**2 + 0*z + 0.\n",
      "    \n",
      "    >>> np.poly((-1./2, 0, 1./2))\n",
      "    array([ 1.  ,  0.  , -0.25,  0.  ])\n",
      "    \n",
      "    The line above represents z**3 - z/4\n",
      "    \n",
      "    >>> np.poly((np.random.random(1)[0], 0, np.random.random(1)[0]))\n",
      "    array([ 1.        , -0.77086955,  0.08618131,  0.        ]) # random\n",
      "    \n",
      "    Given a square array object:\n",
      "    \n",
      "    >>> P = np.array([[0, 1./3], [-1./2, 0]])\n",
      "    >>> np.poly(P)\n",
      "    array([1.        , 0.        , 0.16666667])\n",
      "    \n",
      "    Note how in all cases the leading coefficient is always 1.\n",
      "\n"
     ]
    }
   ],
   "source": [
    "help(np.poly)"
   ]
  },
  {
   "cell_type": "code",
   "execution_count": 17,
   "metadata": {},
   "outputs": [
    {
     "name": "stdout",
     "output_type": "stream",
     "text": [
      "[  1.  -8.   6.  44. -43. -36.  36.]\n"
     ]
    }
   ],
   "source": [
    "r = np.array([-2.0,-1,1,1,3,6])\n",
    "p = np.poly(r)\n",
    "print(p)"
   ]
  },
  {
   "cell_type": "markdown",
   "metadata": {},
   "source": [
    "Now we use a standard numerical method for finding those roots, pretending that we don't know them already."
   ]
  },
  {
   "cell_type": "code",
   "execution_count": 18,
   "metadata": {},
   "outputs": [
    {
     "data": {
      "text/plain": [
       "poly1d([  1.,  -8.,   6.,  44., -43., -36.,  36.])"
      ]
     },
     "execution_count": 18,
     "metadata": {},
     "output_type": "execute_result"
    }
   ],
   "source": [
    "px = np.poly1d(p)\n",
    "px"
   ]
  },
  {
   "cell_type": "code",
   "execution_count": 19,
   "metadata": {},
   "outputs": [
    {
     "data": {
      "text/plain": [
       "array([ 6.        ,  3.        , -2.        , -1.        ,  0.99999999,\n",
       "        1.00000001])"
      ]
     },
     "execution_count": 19,
     "metadata": {},
     "output_type": "execute_result"
    }
   ],
   "source": [
    "px.roots"
   ]
  },
  {
   "cell_type": "code",
   "execution_count": 20,
   "metadata": {},
   "outputs": [
    {
     "name": "stdout",
     "output_type": "stream",
     "text": [
      "[-2.         -1.          0.99999999  1.00000001  3.          6.        ]\n"
     ]
    }
   ],
   "source": [
    "r_computed = np.sort(px.roots)\n",
    "print(r_computed)"
   ]
  },
  {
   "cell_type": "markdown",
   "metadata": {},
   "source": [
    "Here are the relative errors in each of the computed roots."
   ]
  },
  {
   "cell_type": "code",
   "execution_count": 21,
   "metadata": {},
   "outputs": [
    {
     "name": "stdout",
     "output_type": "stream",
     "text": [
      "[3.33066907e-16 2.22044605e-16 1.23423448e-08 1.23423434e-08\n",
      " 1.18423789e-15 1.18423789e-15]\n"
     ]
    }
   ],
   "source": [
    "print(abs(r - r_computed) / abs(r))"
   ]
  },
  {
   "cell_type": "markdown",
   "metadata": {},
   "source": [
    "It seems that the forward error is acceptably close to machine epsilon for double precision in all cases except the double root at $x=1$. This is not a surprise, though, given the poor conditioning at such roots.\n",
    "\n",
    "Let's consider the backward error. The data in the rootfinding problem are the polynomial coefficients. We can apply poly to find the coefficients of the polynomial (that is, the data) whose roots were actually computed by the numerical algorithm."
   ]
  },
  {
   "cell_type": "code",
   "execution_count": 22,
   "metadata": {},
   "outputs": [
    {
     "name": "stdout",
     "output_type": "stream",
     "text": [
      "[  1.  -8.   6.  44. -43. -36.  36.]\n"
     ]
    }
   ],
   "source": [
    "p_computed = np.poly(r_computed)\n",
    "print(p_computed)"
   ]
  },
  {
   "cell_type": "code",
   "execution_count": 24,
   "metadata": {},
   "outputs": [
    {
     "data": {
      "text/plain": [
       "-7.999999999999996"
      ]
     },
     "execution_count": 24,
     "metadata": {},
     "output_type": "execute_result"
    }
   ],
   "source": [
    "p_computed[1]"
   ]
  },
  {
   "cell_type": "code",
   "execution_count": 25,
   "metadata": {},
   "outputs": [
    {
     "data": {
      "text/plain": [
       "5.999999999999998"
      ]
     },
     "execution_count": 25,
     "metadata": {},
     "output_type": "execute_result"
    }
   ],
   "source": [
    "p_computed[2]"
   ]
  },
  {
   "cell_type": "code",
   "execution_count": 26,
   "metadata": {},
   "outputs": [
    {
     "data": {
      "text/plain": [
       "-8.0"
      ]
     },
     "execution_count": 26,
     "metadata": {},
     "output_type": "execute_result"
    }
   ],
   "source": [
    "p[1]"
   ]
  },
  {
   "cell_type": "code",
   "execution_count": 27,
   "metadata": {},
   "outputs": [
    {
     "data": {
      "text/plain": [
       "6.0"
      ]
     },
     "execution_count": 27,
     "metadata": {},
     "output_type": "execute_result"
    }
   ],
   "source": [
    "p[2]"
   ]
  },
  {
   "cell_type": "markdown",
   "metadata": {},
   "source": [
    "We find that in a relative sense, these coefficients are very close to those of the original, exact polynomial:"
   ]
  },
  {
   "cell_type": "code",
   "execution_count": 23,
   "metadata": {},
   "outputs": [
    {
     "name": "stdout",
     "output_type": "stream",
     "text": [
      "[0.00000000e+00 5.55111512e-16 2.96059473e-16 4.84460956e-16\n",
      " 1.65242497e-15 1.97372982e-16 1.57898386e-15]\n"
     ]
    }
   ],
   "source": [
    "print(abs(p-p_computed)/abs(p))"
   ]
  },
  {
   "cell_type": "markdown",
   "metadata": {},
   "source": [
    "In summary, even though there are some computed roots relatively far from their correct values, they are nevertheless the roots of a polynomial that is very close to the original."
   ]
  },
  {
   "cell_type": "markdown",
   "metadata": {},
   "source": [
    "# Example 1.3.4"
   ]
  },
  {
   "cell_type": "code",
   "execution_count": 29,
   "metadata": {},
   "outputs": [],
   "source": [
    "a = 1.0\n",
    "b = -(1e6+1e-6)\n",
    "c = 1.0"
   ]
  },
  {
   "cell_type": "code",
   "execution_count": 30,
   "metadata": {},
   "outputs": [
    {
     "name": "stdout",
     "output_type": "stream",
     "text": [
      "1000000.0\n"
     ]
    }
   ],
   "source": [
    "x1 = (-b + np.sqrt(b*b-4*a*c)) / (2*a)\n",
    "print(x1)"
   ]
  },
  {
   "cell_type": "markdown",
   "metadata": {},
   "source": [
    "So far, so good. But:"
   ]
  },
  {
   "cell_type": "code",
   "execution_count": 31,
   "metadata": {},
   "outputs": [
    {
     "name": "stdout",
     "output_type": "stream",
     "text": [
      "1.00000761449337e-06\n"
     ]
    }
   ],
   "source": [
    "x2 = (-b - np.sqrt(b*b-4*a*c)) / (2*a)\n",
    "print(x2)"
   ]
  },
  {
   "cell_type": "markdown",
   "metadata": {},
   "source": [
    "The first value is correct to all stored digits, but the second has fewer than six accurate digits:"
   ]
  },
  {
   "cell_type": "code",
   "execution_count": 16,
   "metadata": {},
   "outputs": [
    {
     "name": "stdout",
     "output_type": "stream",
     "text": [
      "5.118358987126217\n"
     ]
    }
   ],
   "source": [
    "print( -np.log10(abs(1e-6-x2)/1e-6 ) )"
   ]
  },
  {
   "cell_type": "code",
   "execution_count": 32,
   "metadata": {},
   "outputs": [
    {
     "data": {
      "text/plain": [
       "1000000.000001"
      ]
     },
     "execution_count": 32,
     "metadata": {},
     "output_type": "execute_result"
    }
   ],
   "source": [
    "-b"
   ]
  },
  {
   "cell_type": "code",
   "execution_count": 33,
   "metadata": {},
   "outputs": [
    {
     "data": {
      "text/plain": [
       "999999.999999"
      ]
     },
     "execution_count": 33,
     "metadata": {},
     "output_type": "execute_result"
    }
   ],
   "source": [
    "np.sqrt(b*b - 4*a*c)"
   ]
  },
  {
   "cell_type": "code",
   "execution_count": 34,
   "metadata": {},
   "outputs": [
    {
     "data": {
      "text/plain": [
       "2.00001522898674e-06"
      ]
     },
     "execution_count": 34,
     "metadata": {},
     "output_type": "execute_result"
    }
   ],
   "source": [
    "-b - np.sqrt(b*b-4*a*c)"
   ]
  },
  {
   "cell_type": "markdown",
   "metadata": {},
   "source": [
    "# Example 1.3.5"
   ]
  },
  {
   "cell_type": "code",
   "execution_count": 17,
   "metadata": {},
   "outputs": [],
   "source": [
    "a = 1.0\n",
    "b = -(1e6+1e-6)\n",
    "c = 1.0"
   ]
  },
  {
   "cell_type": "markdown",
   "metadata": {},
   "source": [
    "First, we find the \"good\" root using the quadratic forumla. "
   ]
  },
  {
   "cell_type": "code",
   "execution_count": 18,
   "metadata": {},
   "outputs": [
    {
     "name": "stdout",
     "output_type": "stream",
     "text": [
      "1000000.0\n"
     ]
    }
   ],
   "source": [
    "x1 = (-b + np.sqrt(b*b-4*a*c)) / (2*a)\n",
    "print(x1)"
   ]
  },
  {
   "cell_type": "markdown",
   "metadata": {},
   "source": [
    "Then we use the alternative formula for computing the other root. "
   ]
  },
  {
   "cell_type": "code",
   "execution_count": 19,
   "metadata": {},
   "outputs": [
    {
     "name": "stdout",
     "output_type": "stream",
     "text": [
      "0.0\n"
     ]
    }
   ],
   "source": [
    "x2 = c/(a*x1)\n",
    "print(x2 - 1e-6)"
   ]
  },
  {
   "cell_type": "code",
   "execution_count": null,
   "metadata": {},
   "outputs": [],
   "source": []
  }
 ],
 "metadata": {
  "@webio": {
   "lastCommId": null,
   "lastKernelId": null
  },
  "kernelspec": {
   "display_name": "Python 3",
   "language": "python",
   "name": "python3"
  },
  "language_info": {
   "codemirror_mode": {
    "name": "ipython",
    "version": 3
   },
   "file_extension": ".py",
   "mimetype": "text/x-python",
   "name": "python",
   "nbconvert_exporter": "python",
   "pygments_lexer": "ipython3",
   "version": "3.10.6"
  },
  "toc": {
   "base_numbering": 1,
   "nav_menu": {},
   "number_sections": true,
   "sideBar": true,
   "skip_h1_title": false,
   "title_cell": "Table of Contents",
   "title_sidebar": "Contents",
   "toc_cell": false,
   "toc_position": {},
   "toc_section_display": true,
   "toc_window_display": false
  }
 },
 "nbformat": 4,
 "nbformat_minor": 4
}
