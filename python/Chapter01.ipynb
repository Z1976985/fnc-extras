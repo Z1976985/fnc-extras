{
 "cells": [
  {
   "cell_type": "code",
   "execution_count": 1,
   "metadata": {},
   "outputs": [],
   "source": [
    "from scipy import *\n",
    "import numpy as np\n",
    "import FNC"
   ]
  },
  {
   "cell_type": "markdown",
   "metadata": {},
   "source": [
    "# Example 1.1.2"
   ]
  },
  {
   "cell_type": "markdown",
   "metadata": {},
   "source": [
    "Recall the grade-school approximation to the number $\\pi$.\n",
    "\n",
    "$$\n",
    "f(x) = \\sin(x^2)\n",
    "$$"
   ]
  },
  {
   "cell_type": "code",
   "execution_count": 2,
   "metadata": {},
   "outputs": [
    {
     "name": "stdout",
     "output_type": "stream",
     "text": [
      "3.142857142857143\n"
     ]
    }
   ],
   "source": [
    "p = 22/7\n",
    "print(p)"
   ]
  },
  {
   "cell_type": "markdown",
   "metadata": {},
   "source": [
    "Note that not all the digits displayed for `p` are the same as for $\\pi$. As an approximation, its absolute and relative accuracy are"
   ]
  },
  {
   "cell_type": "code",
   "execution_count": 3,
   "metadata": {},
   "outputs": [
    {
     "name": "stdout",
     "output_type": "stream",
     "text": [
      "absolute accuracy:  0.0012644892673496777\n"
     ]
    }
   ],
   "source": [
    "from numpy import pi\n",
    "print(\"absolute accuracy: \",abs(p-pi))"
   ]
  },
  {
   "cell_type": "code",
   "execution_count": 4,
   "metadata": {},
   "outputs": [
    {
     "name": "stdout",
     "output_type": "stream",
     "text": [
      "relative accuracy:  0.0004024994347707008\n",
      "accurate digits:  3.3952347251747166\n"
     ]
    }
   ],
   "source": [
    "print(\"relative accuracy: \",abs(p-pi)/pi)\n",
    "print(\"accurate digits: \",-np.log10(abs(p-pi)/pi))"
   ]
  },
  {
   "cell_type": "markdown",
   "metadata": {},
   "source": [
    "# Example 1.1.3"
   ]
  },
  {
   "cell_type": "markdown",
   "metadata": {},
   "source": [
    "There is no double precision number between $1$ and $1+\\varepsilon_\\text{mach}$. Thus the following difference is zero despite its appearance."
   ]
  },
  {
   "cell_type": "code",
   "execution_count": 24,
   "metadata": {
    "scrolled": false
   },
   "outputs": [],
   "source": [
    "finfo = np.finfo(np.float32)"
   ]
  },
  {
   "cell_type": "code",
   "execution_count": 25,
   "metadata": {},
   "outputs": [
    {
     "data": {
      "text/plain": [
       "1.1920929e-07"
      ]
     },
     "execution_count": 25,
     "metadata": {},
     "output_type": "execute_result"
    }
   ],
   "source": [
    "finfo.eps"
   ]
  },
  {
   "cell_type": "code",
   "execution_count": 19,
   "metadata": {},
   "outputs": [
    {
     "data": {
      "text/plain": [
       "dtype('float64')"
      ]
     },
     "execution_count": 19,
     "metadata": {},
     "output_type": "execute_result"
    }
   ],
   "source": [
    "finfo.dtype"
   ]
  },
  {
   "cell_type": "code",
   "execution_count": 6,
   "metadata": {},
   "outputs": [
    {
     "data": {
      "text/plain": [
       "2.220446049250313e-16"
      ]
     },
     "execution_count": 6,
     "metadata": {},
     "output_type": "execute_result"
    }
   ],
   "source": [
    "eps = np.finfo(float).eps\n",
    "eps"
   ]
  },
  {
   "cell_type": "code",
   "execution_count": 7,
   "metadata": {},
   "outputs": [
    {
     "data": {
      "text/plain": [
       "1.1102230246251565e-16"
      ]
     },
     "execution_count": 7,
     "metadata": {},
     "output_type": "execute_result"
    }
   ],
   "source": [
    "e = eps/2\n",
    "e"
   ]
  },
  {
   "cell_type": "code",
   "execution_count": 9,
   "metadata": {},
   "outputs": [
    {
     "data": {
      "text/plain": [
       "1.0000000000000002"
      ]
     },
     "execution_count": 9,
     "metadata": {},
     "output_type": "execute_result"
    }
   ],
   "source": [
    "1.0 + eps"
   ]
  },
  {
   "cell_type": "code",
   "execution_count": 10,
   "metadata": {},
   "outputs": [
    {
     "data": {
      "text/plain": [
       "1.0"
      ]
     },
     "execution_count": 10,
     "metadata": {},
     "output_type": "execute_result"
    }
   ],
   "source": [
    "1.0 + eps/2 "
   ]
  },
  {
   "cell_type": "code",
   "execution_count": 12,
   "metadata": {},
   "outputs": [
    {
     "data": {
      "text/plain": [
       "False"
      ]
     },
     "execution_count": 12,
     "metadata": {},
     "output_type": "execute_result"
    }
   ],
   "source": [
    "(1.0 + eps/2) - 1.0 == eps/2"
   ]
  },
  {
   "cell_type": "markdown",
   "metadata": {},
   "source": [
    "However, $1-\\varepsilon_\\text{mach}/2$ is a double precision number, so it and its negative are represented exactly:"
   ]
  },
  {
   "cell_type": "code",
   "execution_count": 14,
   "metadata": {},
   "outputs": [
    {
     "data": {
      "text/plain": [
       "True"
      ]
     },
     "execution_count": 14,
     "metadata": {},
     "output_type": "execute_result"
    }
   ],
   "source": [
    "1.0 + (eps/2 - 1.0) == eps/2"
   ]
  },
  {
   "cell_type": "markdown",
   "metadata": {},
   "source": [
    "This is now the \"correct\" result. But we have found a rather shocking breakdown of the associative law of addition!"
   ]
  },
  {
   "cell_type": "markdown",
   "metadata": {},
   "source": [
    "# Example 1.3.2"
   ]
  },
  {
   "cell_type": "markdown",
   "metadata": {},
   "source": [
    "Here we show how to use `horner` to evaluate a polynomial. We first define a vector of the coefficients of $p(x)=(x−1)^3=x^3−3x^2+3x−1$, in descending degree order. Note that the textbook's functions are all in a namespace called `FNC`, to help distinguish them from other Python commands and modules.\n"
   ]
  },
  {
   "cell_type": "code",
   "execution_count": 3,
   "metadata": {},
   "outputs": [
    {
     "name": "stdout",
     "output_type": "stream",
     "text": [
      "0.21600000000000041\n"
     ]
    }
   ],
   "source": [
    "c = np.array([1,-3,3,-1])\n",
    "print( FNC.horner(c,1.6) )"
   ]
  },
  {
   "cell_type": "code",
   "execution_count": 4,
   "metadata": {},
   "outputs": [
    {
     "data": {
      "text/plain": [
       "0.2160000000000001"
      ]
     },
     "execution_count": 4,
     "metadata": {},
     "output_type": "execute_result"
    }
   ],
   "source": [
    "(1.6 - 1)**3"
   ]
  },
  {
   "cell_type": "markdown",
   "metadata": {},
   "source": [
    "The above is the value of $p(1.6)$, up to a rounding error."
   ]
  },
  {
   "cell_type": "markdown",
   "metadata": {},
   "source": [
    "# Example 1.3.3"
   ]
  },
  {
   "cell_type": "markdown",
   "metadata": {},
   "source": [
    "Our first step is to construct a polynomial with six known roots."
   ]
  },
  {
   "cell_type": "code",
   "execution_count": 6,
   "metadata": {
    "scrolled": true
   },
   "outputs": [
    {
     "name": "stdout",
     "output_type": "stream",
     "text": [
      "Help on function poly in module numpy:\n",
      "\n",
      "poly(seq_of_zeros)\n",
      "    Find the coefficients of a polynomial with the given sequence of roots.\n",
      "    \n",
      "    .. note::\n",
      "       This forms part of the old polynomial API. Since version 1.4, the\n",
      "       new polynomial API defined in `numpy.polynomial` is preferred.\n",
      "       A summary of the differences can be found in the\n",
      "       :doc:`transition guide </reference/routines.polynomials>`.\n",
      "    \n",
      "    Returns the coefficients of the polynomial whose leading coefficient\n",
      "    is one for the given sequence of zeros (multiple roots must be included\n",
      "    in the sequence as many times as their multiplicity; see Examples).\n",
      "    A square matrix (or array, which will be treated as a matrix) can also\n",
      "    be given, in which case the coefficients of the characteristic polynomial\n",
      "    of the matrix are returned.\n",
      "    \n",
      "    Parameters\n",
      "    ----------\n",
      "    seq_of_zeros : array_like, shape (N,) or (N, N)\n",
      "        A sequence of polynomial roots, or a square array or matrix object.\n",
      "    \n",
      "    Returns\n",
      "    -------\n",
      "    c : ndarray\n",
      "        1D array of polynomial coefficients from highest to lowest degree:\n",
      "    \n",
      "        ``c[0] * x**(N) + c[1] * x**(N-1) + ... + c[N-1] * x + c[N]``\n",
      "        where c[0] always equals 1.\n",
      "    \n",
      "    Raises\n",
      "    ------\n",
      "    ValueError\n",
      "        If input is the wrong shape (the input must be a 1-D or square\n",
      "        2-D array).\n",
      "    \n",
      "    See Also\n",
      "    --------\n",
      "    polyval : Compute polynomial values.\n",
      "    roots : Return the roots of a polynomial.\n",
      "    polyfit : Least squares polynomial fit.\n",
      "    poly1d : A one-dimensional polynomial class.\n",
      "    \n",
      "    Notes\n",
      "    -----\n",
      "    Specifying the roots of a polynomial still leaves one degree of\n",
      "    freedom, typically represented by an undetermined leading\n",
      "    coefficient. [1]_ In the case of this function, that coefficient -\n",
      "    the first one in the returned array - is always taken as one. (If\n",
      "    for some reason you have one other point, the only automatic way\n",
      "    presently to leverage that information is to use ``polyfit``.)\n",
      "    \n",
      "    The characteristic polynomial, :math:`p_a(t)`, of an `n`-by-`n`\n",
      "    matrix **A** is given by\n",
      "    \n",
      "        :math:`p_a(t) = \\mathrm{det}(t\\, \\mathbf{I} - \\mathbf{A})`,\n",
      "    \n",
      "    where **I** is the `n`-by-`n` identity matrix. [2]_\n",
      "    \n",
      "    References\n",
      "    ----------\n",
      "    .. [1] M. Sullivan and M. Sullivan, III, \"Algebra and Trignometry,\n",
      "       Enhanced With Graphing Utilities,\" Prentice-Hall, pg. 318, 1996.\n",
      "    \n",
      "    .. [2] G. Strang, \"Linear Algebra and Its Applications, 2nd Edition,\"\n",
      "       Academic Press, pg. 182, 1980.\n",
      "    \n",
      "    Examples\n",
      "    --------\n",
      "    Given a sequence of a polynomial's zeros:\n",
      "    \n",
      "    >>> np.poly((0, 0, 0)) # Multiple root example\n",
      "    array([1., 0., 0., 0.])\n",
      "    \n",
      "    The line above represents z**3 + 0*z**2 + 0*z + 0.\n",
      "    \n",
      "    >>> np.poly((-1./2, 0, 1./2))\n",
      "    array([ 1.  ,  0.  , -0.25,  0.  ])\n",
      "    \n",
      "    The line above represents z**3 - z/4\n",
      "    \n",
      "    >>> np.poly((np.random.random(1)[0], 0, np.random.random(1)[0]))\n",
      "    array([ 1.        , -0.77086955,  0.08618131,  0.        ]) # random\n",
      "    \n",
      "    Given a square array object:\n",
      "    \n",
      "    >>> P = np.array([[0, 1./3], [-1./2, 0]])\n",
      "    >>> np.poly(P)\n",
      "    array([1.        , 0.        , 0.16666667])\n",
      "    \n",
      "    Note how in all cases the leading coefficient is always 1.\n",
      "\n"
     ]
    }
   ],
   "source": [
    "help(np.poly)"
   ]
  },
  {
   "cell_type": "code",
   "execution_count": 21,
   "metadata": {},
   "outputs": [
    {
     "name": "stdout",
     "output_type": "stream",
     "text": [
      "[  1.  -8.   6.  44. -43. -36.  36.]\n"
     ]
    }
   ],
   "source": [
    "r = np.array([-2.0,-1,1,1,3,6])\n",
    "p = np.poly(r)\n",
    "print(p)"
   ]
  },
  {
   "cell_type": "markdown",
   "metadata": {},
   "source": [
    "Now we use a standard numerical method for finding those roots, pretending that we don't know them already."
   ]
  },
  {
   "cell_type": "code",
   "execution_count": 22,
   "metadata": {},
   "outputs": [
    {
     "data": {
      "text/plain": [
       "poly1d([  1.,  -8.,   6.,  44., -43., -36.,  36.])"
      ]
     },
     "execution_count": 22,
     "metadata": {},
     "output_type": "execute_result"
    }
   ],
   "source": [
    "px = np.poly1d(p)\n",
    "px"
   ]
  },
  {
   "cell_type": "code",
   "execution_count": 23,
   "metadata": {},
   "outputs": [
    {
     "data": {
      "text/plain": [
       "array([ 6.        ,  3.        , -2.        , -1.        ,  0.99999999,\n",
       "        1.00000001])"
      ]
     },
     "execution_count": 23,
     "metadata": {},
     "output_type": "execute_result"
    }
   ],
   "source": [
    "px.roots"
   ]
  },
  {
   "cell_type": "code",
   "execution_count": 24,
   "metadata": {},
   "outputs": [
    {
     "name": "stdout",
     "output_type": "stream",
     "text": [
      "[-2.         -1.          0.99999999  1.00000001  3.          6.        ]\n"
     ]
    }
   ],
   "source": [
    "r_computed = np.sort(px.roots)\n",
    "print(r_computed)"
   ]
  },
  {
   "cell_type": "markdown",
   "metadata": {},
   "source": [
    "Here are the relative errors in each of the computed roots."
   ]
  },
  {
   "cell_type": "code",
   "execution_count": 25,
   "metadata": {},
   "outputs": [
    {
     "name": "stdout",
     "output_type": "stream",
     "text": [
      "[3.33066907e-16 2.22044605e-16 1.23423448e-08 1.23423434e-08\n",
      " 1.18423789e-15 1.18423789e-15]\n"
     ]
    }
   ],
   "source": [
    "print(abs(r - r_computed) / abs(r))"
   ]
  },
  {
   "cell_type": "markdown",
   "metadata": {},
   "source": [
    "It seems that the forward error is acceptably close to machine epsilon for double precision in all cases except the double root at $x=1$. This is not a surprise, though, given the poor conditioning at such roots.\n",
    "\n",
    "Let's consider the backward error. The data in the rootfinding problem are the polynomial coefficients. We can apply poly to find the coefficients of the polynomial (that is, the data) whose roots were actually computed by the numerical algorithm."
   ]
  },
  {
   "cell_type": "code",
   "execution_count": 26,
   "metadata": {},
   "outputs": [
    {
     "name": "stdout",
     "output_type": "stream",
     "text": [
      "[  1.  -8.   6.  44. -43. -36.  36.]\n"
     ]
    }
   ],
   "source": [
    "p_computed = np.poly(r_computed)\n",
    "print(p_computed)"
   ]
  },
  {
   "cell_type": "code",
   "execution_count": 29,
   "metadata": {},
   "outputs": [
    {
     "data": {
      "text/plain": [
       "4.440892098500626e-15"
      ]
     },
     "execution_count": 29,
     "metadata": {},
     "output_type": "execute_result"
    }
   ],
   "source": [
    "p_computed[1] - p[1]"
   ]
  },
  {
   "cell_type": "code",
   "execution_count": 30,
   "metadata": {},
   "outputs": [
    {
     "data": {
      "text/plain": [
       "-1.7763568394002505e-15"
      ]
     },
     "execution_count": 30,
     "metadata": {},
     "output_type": "execute_result"
    }
   ],
   "source": [
    "p_computed[2] - p[2]"
   ]
  },
  {
   "cell_type": "markdown",
   "metadata": {},
   "source": [
    "We find that in a relative sense, these coefficients are very close to those of the original, exact polynomial:"
   ]
  },
  {
   "cell_type": "code",
   "execution_count": 31,
   "metadata": {},
   "outputs": [
    {
     "name": "stdout",
     "output_type": "stream",
     "text": [
      "[0.00000000e+00 5.55111512e-16 2.96059473e-16 4.84460956e-16\n",
      " 1.65242497e-15 1.97372982e-16 1.57898386e-15]\n"
     ]
    }
   ],
   "source": [
    "print(abs(p-p_computed)/abs(p))"
   ]
  },
  {
   "cell_type": "markdown",
   "metadata": {},
   "source": [
    "In summary, even though there are some computed roots relatively far from their correct values, they are nevertheless the roots of a polynomial that is very close to the original."
   ]
  },
  {
   "cell_type": "markdown",
   "metadata": {},
   "source": [
    "# Example 1.3.4"
   ]
  },
  {
   "cell_type": "code",
   "execution_count": 14,
   "metadata": {},
   "outputs": [],
   "source": [
    "a = 1.0\n",
    "b = -(1e6+1e-6)\n",
    "c = 1.0"
   ]
  },
  {
   "cell_type": "code",
   "execution_count": 15,
   "metadata": {},
   "outputs": [
    {
     "name": "stdout",
     "output_type": "stream",
     "text": [
      "1000000.0\n"
     ]
    }
   ],
   "source": [
    "x1 = (-b + np.sqrt(b*b-4*a*c)) / (2*a)\n",
    "print(x1)"
   ]
  },
  {
   "cell_type": "markdown",
   "metadata": {},
   "source": [
    "So far, so good. But:"
   ]
  },
  {
   "cell_type": "code",
   "execution_count": 16,
   "metadata": {},
   "outputs": [
    {
     "name": "stdout",
     "output_type": "stream",
     "text": [
      "1.00000761449337e-06\n"
     ]
    }
   ],
   "source": [
    "x2 = (-b - np.sqrt(b*b-4*a*c)) / (2*a)\n",
    "print(x2)"
   ]
  },
  {
   "cell_type": "code",
   "execution_count": 17,
   "metadata": {},
   "outputs": [],
   "source": [
    "a2 = 1.0\n",
    "b2 = -(x1+x2)\n",
    "c2 = x1*x2"
   ]
  },
  {
   "cell_type": "code",
   "execution_count": 18,
   "metadata": {},
   "outputs": [
    {
     "data": {
      "text/plain": [
       "(1.0, -1000000.000001, 1.00000761449337)"
      ]
     },
     "execution_count": 18,
     "metadata": {},
     "output_type": "execute_result"
    }
   ],
   "source": [
    "a2, b2, c2"
   ]
  },
  {
   "cell_type": "code",
   "execution_count": 19,
   "metadata": {},
   "outputs": [
    {
     "data": {
      "text/plain": [
       "(1.0, -1000000.000001, 1.0)"
      ]
     },
     "execution_count": 19,
     "metadata": {},
     "output_type": "execute_result"
    }
   ],
   "source": [
    "a, b, c"
   ]
  },
  {
   "cell_type": "code",
   "execution_count": 20,
   "metadata": {},
   "outputs": [
    {
     "data": {
      "text/plain": [
       "7.614493370056152e-06"
      ]
     },
     "execution_count": 20,
     "metadata": {},
     "output_type": "execute_result"
    }
   ],
   "source": [
    "np.sqrt((a-a2)**2 + (b-b2)**2 + (c-c2)**2)"
   ]
  },
  {
   "cell_type": "markdown",
   "metadata": {},
   "source": [
    "The first value is correct to all stored digits, but the second has fewer than six accurate digits:"
   ]
  },
  {
   "cell_type": "code",
   "execution_count": 5,
   "metadata": {},
   "outputs": [
    {
     "name": "stdout",
     "output_type": "stream",
     "text": [
      "5.118358987126217\n"
     ]
    }
   ],
   "source": [
    "print( -np.log10(abs(1e-6-x2)/1e-6 ) )"
   ]
  },
  {
   "cell_type": "code",
   "execution_count": 6,
   "metadata": {},
   "outputs": [
    {
     "data": {
      "text/plain": [
       "1000000.000001"
      ]
     },
     "execution_count": 6,
     "metadata": {},
     "output_type": "execute_result"
    }
   ],
   "source": [
    "-b"
   ]
  },
  {
   "cell_type": "code",
   "execution_count": 7,
   "metadata": {},
   "outputs": [
    {
     "data": {
      "text/plain": [
       "999999.999999"
      ]
     },
     "execution_count": 7,
     "metadata": {},
     "output_type": "execute_result"
    }
   ],
   "source": [
    "np.sqrt(b*b - 4*a*c)"
   ]
  },
  {
   "cell_type": "code",
   "execution_count": 8,
   "metadata": {},
   "outputs": [
    {
     "data": {
      "text/plain": [
       "2.00001522898674e-06"
      ]
     },
     "execution_count": 8,
     "metadata": {},
     "output_type": "execute_result"
    }
   ],
   "source": [
    "-b - np.sqrt(b*b-4*a*c)"
   ]
  },
  {
   "cell_type": "markdown",
   "metadata": {},
   "source": [
    "# Example 1.3.5"
   ]
  },
  {
   "cell_type": "code",
   "execution_count": 9,
   "metadata": {},
   "outputs": [],
   "source": [
    "a = 1.0\n",
    "b = -(1e6+1e-6)\n",
    "c = 1.0"
   ]
  },
  {
   "cell_type": "markdown",
   "metadata": {},
   "source": [
    "First, we find the \"good\" root using the quadratic forumla. "
   ]
  },
  {
   "cell_type": "code",
   "execution_count": 11,
   "metadata": {},
   "outputs": [
    {
     "name": "stdout",
     "output_type": "stream",
     "text": [
      "1000000.0\n"
     ]
    }
   ],
   "source": [
    "x1 = (-b - np.sign(b)*np.sqrt(b*b-4*a*c)) / (2*a)\n",
    "print(x1)"
   ]
  },
  {
   "cell_type": "markdown",
   "metadata": {},
   "source": [
    "Then we use the alternative formula for computing the other root. "
   ]
  },
  {
   "cell_type": "code",
   "execution_count": 13,
   "metadata": {},
   "outputs": [
    {
     "name": "stdout",
     "output_type": "stream",
     "text": [
      "1e-06\n",
      "0.0\n"
     ]
    }
   ],
   "source": [
    "x2 = c/(a*x1)\n",
    "print(x2)\n",
    "print(x2 - 1e-6)"
   ]
  },
  {
   "cell_type": "markdown",
   "metadata": {},
   "source": [
    "---\n",
    "\n",
    "## Integral example\n",
    "\n",
    "$$\n",
    "y_n = \\int_0^1 \\frac{x^n}{x+10} dx, \\qquad n = 0, 1, \\ldots, 30.\n",
    "$$\n",
    "\n",
    "Algorithm:\n",
    "\n",
    "$$\n",
    "y_n = \\frac1n - 10 y_{n-1}, \\qquad y_0 = \\ln 11 - \\ln 10.\n",
    "$$"
   ]
  },
  {
   "cell_type": "code",
   "execution_count": 52,
   "metadata": {},
   "outputs": [
    {
     "data": {
      "text/plain": [
       "[0.09531017980432493,\n",
       " 0.04689820195675065,\n",
       " 0.03101798043249282,\n",
       " 0.023153529008396845]"
      ]
     },
     "execution_count": 52,
     "metadata": {},
     "output_type": "execute_result"
    }
   ],
   "source": [
    "ytrue = [\n",
    "    np.log(11/10),\n",
    "    1 - 10*np.log(11/10),\n",
    "    -9.5 + 100*np.log(11/10),\n",
    "    1/3 + 95 - 1000*np.log(11/10)\n",
    "]\n",
    "ytrue"
   ]
  },
  {
   "cell_type": "code",
   "execution_count": 54,
   "metadata": {},
   "outputs": [
    {
     "data": {
      "text/plain": [
       "array([0.00000000e+00, 0.00000000e+00, 2.14757313e-14, 6.95282082e-14])"
      ]
     },
     "execution_count": 54,
     "metadata": {},
     "output_type": "execute_result"
    }
   ],
   "source": [
    "np.abs(ytrue - y[0:4]) / np.abs(ytrue)"
   ]
  },
  {
   "cell_type": "code",
   "execution_count": 47,
   "metadata": {},
   "outputs": [
    {
     "name": "stdout",
     "output_type": "stream",
     "text": [
      "[0.09531017980432493]\n",
      "[1.0, 0.9531017980432493, 0.04689820195675065]\n",
      "[0.5, 0.4689820195675065, 0.031017980432493486]\n",
      "[0.3333333333333333, 0.31017980432493486, 0.023153529008398455]\n",
      "[0.25, 0.23153529008398455, 0.018464709916015454]\n",
      "[0.2, 0.18464709916015454, 0.015352900839845474]\n",
      "[0.16666666666666666, 0.15352900839845474, 0.013137658268211921]\n",
      "[0.14285714285714285, 0.13137658268211921, 0.011480560175023635]\n",
      "[0.125, 0.11480560175023635, 0.010194398249763648]\n",
      "[0.1111111111111111, 0.10194398249763648, 0.009167128613474629]\n",
      "[0.1, 0.09167128613474629, 0.008328713865253717]\n",
      "[0.09090909090909091, 0.08328713865253717, 0.007621952256553738]\n",
      "[0.08333333333333333, 0.07621952256553738, 0.00711381076779595]\n",
      "[0.07692307692307693, 0.0711381076779595, 0.005784969245117427]\n",
      "[0.07142857142857142, 0.05784969245117427, 0.013578878977397152]\n",
      "[0.06666666666666667, 0.13578878977397152, -0.06912212310730485]\n",
      "[0.0625, -0.6912212310730486, 0.7537212310730486]\n",
      "[0.058823529411764705, 7.537212310730485, -7.478388781318721]\n",
      "[0.05555555555555555, -74.7838878131872, 74.83944336874276]\n",
      "[0.05263157894736842, 748.3944336874276, -748.3418021084802]\n",
      "[0.05, -7483.418021084803, 7483.468021084803]\n",
      "[0.047619047619047616, 74834.68021084803, -74834.63259180041]\n",
      "[0.045454545454545456, -748346.3259180041, 748346.3713725496]\n",
      "[0.043478260869565216, 7483463.713725496, -7483463.670247235]\n",
      "[0.041666666666666664, -74834636.70247236, 74834636.74413903]\n",
      "[0.04, 748346367.4413903, -748346367.4013903]\n",
      "[0.038461538461538464, -7483463674.013903, 7483463674.052364]\n",
      "[0.037037037037037035, 74834636740.52365, -74834636740.48662]\n",
      "[0.03571428571428571, -748346367404.8662, 748346367404.902]\n",
      "[0.034482758620689655, 7483463674049.02, -7483463674048.985]\n",
      "[0.03333333333333333, -74834636740489.86, 74834636740489.89]\n"
     ]
    },
    {
     "data": {
      "text/plain": [
       "array([ 9.53101798e-02,  4.68982020e-02,  3.10179804e-02,  2.31535290e-02,\n",
       "        1.84647099e-02,  1.53529008e-02,  1.31376583e-02,  1.14805602e-02,\n",
       "        1.01943982e-02,  9.16712861e-03,  8.32871387e-03,  7.62195226e-03,\n",
       "        7.11381077e-03,  5.78496925e-03,  1.35788790e-02, -6.91221231e-02,\n",
       "        7.53721231e-01, -7.47838878e+00,  7.48394434e+01, -7.48341802e+02,\n",
       "        7.48346802e+03, -7.48346326e+04,  7.48346371e+05, -7.48346367e+06,\n",
       "        7.48346367e+07, -7.48346367e+08,  7.48346367e+09, -7.48346367e+10,\n",
       "        7.48346367e+11, -7.48346367e+12,  7.48346367e+13])"
      ]
     },
     "execution_count": 47,
     "metadata": {},
     "output_type": "execute_result"
    }
   ],
   "source": [
    "y = np.zeros(31)\n",
    "y[0] = np.log(11/10)\n",
    "print([y[0]])\n",
    "for n in range(1,31):\n",
    "    y[n] = 1/n - 10*y[n-1]\n",
    "    print([1/n, 10*y[n-1], y[n]])\n",
    "y"
   ]
  },
  {
   "cell_type": "code",
   "execution_count": 55,
   "metadata": {},
   "outputs": [],
   "source": [
    "import scipy.integrate as integrate"
   ]
  },
  {
   "cell_type": "code",
   "execution_count": 77,
   "metadata": {},
   "outputs": [
    {
     "data": {
      "text/plain": [
       "[(0.09531017980432485, 1.0581555609992505e-15),\n",
       " (0.0468982019567514, 5.206746362590598e-16),\n",
       " (0.031017980432486002, 3.443687605351853e-16),\n",
       " (0.02315352900847329, 2.570558100653352e-16),\n",
       " (0.018464709915267108, 2.0499946090953966e-16),\n",
       " (0.015352900847328937, 1.704514401549166e-16),\n",
       " (0.013137658193377286, 1.45857306159428e-16),\n",
       " (0.011480560923370004, 1.2745983072737226e-16),\n",
       " (0.010194390766299978, 1.1318047350772327e-16),\n",
       " (0.009167203448111371, 1.0177640339516371e-16),\n",
       " (0.008327965518886312, 9.245899067351973e-17),\n",
       " (0.007629435720227788, 8.470375201494505e-17),\n",
       " (0.00703897613105546, 7.814833370484675e-17),\n",
       " (0.006533315612522328, 7.253437420165296e-17),\n",
       " (0.006095415303348168, 6.767270414429668e-17),\n",
       " (0.005712513633184993, 6.342164164047084e-17),\n",
       " (0.005374863668150088, 5.967297398601455e-17),\n",
       " (0.0050748927302638434, 5.634262756641743e-17),\n",
       " (0.004806628252917125, 5.3364293572023825e-17),\n",
       " (0.004565296418197191, 5.068497197721279e-17),\n",
       " (0.00434703581802811, 3.821904186014086e-16),\n",
       " (0.00414868943876653, 2.8603296834515567e-14),\n",
       " (0.003967651066880173, 4.819030402395046e-13),\n",
       " (0.0038017502007634874, 4.364786114602897e-12),\n",
       " (0.0036491646590318034, 2.7013926556492908e-11),\n",
       " (0.003508353409681978, 1.280055189011781e-10),\n",
       " (0.0033780043647186897, 4.961595806414676e-10),\n",
       " (0.0032569933898501484, 1.6422706062168607e-09),\n",
       " (0.003144351815784246, 4.783262612270253e-09),\n",
       " (0.003039240462847201, 1.2531299029026664e-08),\n",
       " (0.0029409287048613284, 1.4114579243116296e-15)]"
      ]
     },
     "execution_count": 77,
     "metadata": {},
     "output_type": "execute_result"
    }
   ],
   "source": [
    "def f(x,n):\n",
    "    return x**n/(x+10)\n",
    "\n",
    "yquad = [integrate.quad(lambda x: f(x,n), 0, 1) for n in range(31)]\n",
    "yquad"
   ]
  },
  {
   "cell_type": "code",
   "execution_count": 82,
   "metadata": {},
   "outputs": [
    {
     "data": {
      "text/plain": [
       "[(0.09531017980432485, 1.3877787807814457e-17),\n",
       " (0.046898201956751394, 9.020562075079397e-17),\n",
       " (0.031017980432486, 8.36136715420821e-16),\n",
       " (0.023153529008473294, 3.469446951953614e-18),\n",
       " (0.018464709915267115, 6.245004513516506e-17),\n",
       " (0.015352900847328946, 4.683753385137379e-16),\n",
       " (0.013137658193377292, 1.734723475976807e-18),\n",
       " (0.011480560923370006, 3.122502256758253e-17),\n",
       " (0.010194390766299978, 2.706168622523819e-16),\n",
       " (0.009167203448111406, 3.2959746043559335e-17),\n",
       " (0.00832796551888635, 5.0306980803327406e-17),\n",
       " (0.007629435720227826, 1.196959198423997e-16),\n",
       " (0.007038976131055433, 6.331740687315346e-17),\n",
       " (0.0065333156125223, 7.19910242530375e-17),\n",
       " (0.006095415303348141, 2.688821387764051e-17),\n",
       " (0.005712513633184965, 9.532305500492555e-16),\n",
       " (0.005374863668150111, 5.637851296924623e-17),\n",
       " (0.005074892730263868, 0.0),\n",
       " (0.004806628252917148, 5.568462357885551e-16),\n",
       " (0.004565296418197149, 6.765421556309548e-17),\n",
       " (0.004347035818028068, 3.729655473350135e-17),\n",
       " (0.004148689438766487, 3.5301622736128024e-16),\n",
       " (0.003967651066880179, 4.9439619065339e-17),\n",
       " (0.0038017502007634913, 2.905661822261152e-17),\n",
       " (0.0036491646590318073, 2.0946785972419946e-16),\n",
       " (0.003508353409682018, 3.5128150388530344e-17),\n",
       " (0.0033780043647187296, 4.5102810375396984e-17),\n",
       " (0.003256993389850188, 2.8579569266717897e-16),\n",
       " (0.0031443518157842723, 1.3444106938820255e-17),\n",
       " (0.003039240462847227, 1.3010426069826053e-18),\n",
       " (0.002940928704861353, 1.3444106938820255e-16)]"
      ]
     },
     "execution_count": 82,
     "metadata": {},
     "output_type": "execute_result"
    }
   ],
   "source": [
    "ygauss = [integrate.quadrature(lambda x: f(x,n), 0, 1, tol=1e-15, rtol=1e-15, maxiter=1000) for n in range(31)]\n",
    "ygauss"
   ]
  },
  {
   "cell_type": "code",
   "execution_count": 74,
   "metadata": {
    "scrolled": false
   },
   "outputs": [
    {
     "name": "stdout",
     "output_type": "stream",
     "text": [
      "Help on function quadrature in module scipy.integrate._quadrature:\n",
      "\n",
      "quadrature(func, a, b, args=(), tol=1.49e-08, rtol=1.49e-08, maxiter=50, vec_func=True, miniter=1)\n",
      "    Compute a definite integral using fixed-tolerance Gaussian quadrature.\n",
      "    \n",
      "    Integrate `func` from `a` to `b` using Gaussian quadrature\n",
      "    with absolute tolerance `tol`.\n",
      "    \n",
      "    Parameters\n",
      "    ----------\n",
      "    func : function\n",
      "        A Python function or method to integrate.\n",
      "    a : float\n",
      "        Lower limit of integration.\n",
      "    b : float\n",
      "        Upper limit of integration.\n",
      "    args : tuple, optional\n",
      "        Extra arguments to pass to function.\n",
      "    tol, rtol : float, optional\n",
      "        Iteration stops when error between last two iterates is less than\n",
      "        `tol` OR the relative change is less than `rtol`.\n",
      "    maxiter : int, optional\n",
      "        Maximum order of Gaussian quadrature.\n",
      "    vec_func : bool, optional\n",
      "        True or False if func handles arrays as arguments (is\n",
      "        a \"vector\" function). Default is True.\n",
      "    miniter : int, optional\n",
      "        Minimum order of Gaussian quadrature.\n",
      "    \n",
      "    Returns\n",
      "    -------\n",
      "    val : float\n",
      "        Gaussian quadrature approximation (within tolerance) to integral.\n",
      "    err : float\n",
      "        Difference between last two estimates of the integral.\n",
      "    \n",
      "    See Also\n",
      "    --------\n",
      "    romberg : adaptive Romberg quadrature\n",
      "    fixed_quad : fixed-order Gaussian quadrature\n",
      "    quad : adaptive quadrature using QUADPACK\n",
      "    dblquad : double integrals\n",
      "    tplquad : triple integrals\n",
      "    romb : integrator for sampled data\n",
      "    simpson : integrator for sampled data\n",
      "    cumulative_trapezoid : cumulative integration for sampled data\n",
      "    ode : ODE integrator\n",
      "    odeint : ODE integrator\n",
      "    \n",
      "    Examples\n",
      "    --------\n",
      "    >>> from scipy import integrate\n",
      "    >>> f = lambda x: x**8\n",
      "    >>> integrate.quadrature(f, 0.0, 1.0)\n",
      "    (0.11111111111111106, 4.163336342344337e-17)\n",
      "    >>> print(1/9.0)  # analytical result\n",
      "    0.1111111111111111\n",
      "    \n",
      "    >>> integrate.quadrature(np.cos, 0.0, np.pi/2)\n",
      "    (0.9999999999999536, 3.9611425250996035e-11)\n",
      "    >>> np.sin(np.pi/2)-np.sin(0)  # analytical result\n",
      "    1.0\n",
      "\n"
     ]
    }
   ],
   "source": [
    "help(integrate.quadrature)"
   ]
  },
  {
   "cell_type": "code",
   "execution_count": null,
   "metadata": {},
   "outputs": [],
   "source": []
  }
 ],
 "metadata": {
  "@webio": {
   "lastCommId": null,
   "lastKernelId": null
  },
  "kernelspec": {
   "display_name": "Python 3",
   "language": "python",
   "name": "python3"
  },
  "language_info": {
   "codemirror_mode": {
    "name": "ipython",
    "version": 3
   },
   "file_extension": ".py",
   "mimetype": "text/x-python",
   "name": "python",
   "nbconvert_exporter": "python",
   "pygments_lexer": "ipython3",
   "version": "3.10.6"
  },
  "toc": {
   "base_numbering": 1,
   "nav_menu": {},
   "number_sections": true,
   "sideBar": true,
   "skip_h1_title": false,
   "title_cell": "Table of Contents",
   "title_sidebar": "Contents",
   "toc_cell": false,
   "toc_position": {},
   "toc_section_display": true,
   "toc_window_display": false
  }
 },
 "nbformat": 4,
 "nbformat_minor": 4
}
