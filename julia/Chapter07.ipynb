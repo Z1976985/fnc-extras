{
 "cells": [
  {
   "cell_type": "code",
   "execution_count": 1,
   "metadata": {},
   "outputs": [
    {
     "name": "stderr",
     "output_type": "stream",
     "text": [
      "┌ Info: Precompiling Plots [91a5bcdd-55d7-5caf-9e0b-520d859cae80]\n",
      "└ @ Base loading.jl:1278\n",
      "┌ Info: Precompiling LightGraphs [093fc24a-ae57-5d10-9952-331d41423f4d]\n",
      "└ @ Base loading.jl:1278\n",
      "┌ Info: Precompiling GraphPlot [a2cc645c-3eea-5389-862e-a155d0052231]\n",
      "└ @ Base loading.jl:1278\n",
      "┌ Info: Precompiling Images [916415d5-f1e6-5110-898d-aaa5f9f070e0]\n",
      "└ @ Base loading.jl:1278\n",
      "┌ Info: Precompiling JLD [4138dd39-2aa7-5051-a626-17a0bb65d9c8]\n",
      "└ @ Base loading.jl:1278\n"
     ]
    }
   ],
   "source": [
    "using Plots,LaTeXStrings\n",
    "default(markersize=3,linewidth=1.5)\n",
    "using LightGraphs,GraphPlot\n",
    "using Images,TestImages\n",
    "using DataFrames,JLD\n",
    "using LinearAlgebra\n",
    "#include(\"FNC.jl\");"
   ]
  },
  {
   "cell_type": "markdown",
   "metadata": {},
   "source": [
    "# Example 7.1.4"
   ]
  },
  {
   "cell_type": "markdown",
   "metadata": {},
   "source": [
    "Here is the adjacency matrix of a \"small-world\" network on 200 nodes. Each node is connected to 4 neighbors, and then some edges are randomly changed to distant connections. "
   ]
  },
  {
   "cell_type": "code",
   "execution_count": null,
   "metadata": {},
   "outputs": [],
   "source": [
    "g = watts_strogatz(200,4,0.06)\n",
    "gplot(g)"
   ]
  },
  {
   "cell_type": "code",
   "execution_count": null,
   "metadata": {},
   "outputs": [],
   "source": [
    "g"
   ]
  },
  {
   "cell_type": "code",
   "execution_count": null,
   "metadata": {},
   "outputs": [],
   "source": [
    "g.fadjlist"
   ]
  },
  {
   "cell_type": "code",
   "execution_count": null,
   "metadata": {},
   "outputs": [],
   "source": [
    "g.ne"
   ]
  },
  {
   "cell_type": "code",
   "execution_count": null,
   "metadata": {},
   "outputs": [],
   "source": [
    "vertices(g)"
   ]
  },
  {
   "cell_type": "code",
   "execution_count": null,
   "metadata": {},
   "outputs": [],
   "source": [
    "edges(g)"
   ]
  },
  {
   "cell_type": "code",
   "execution_count": null,
   "metadata": {},
   "outputs": [],
   "source": [
    "collect(edges(g))"
   ]
  },
  {
   "cell_type": "markdown",
   "metadata": {},
   "source": [
    "The adjacency matrix for this graph reveals the connections as mostly local (i.e., the nonzeros are near the diagonal)."
   ]
  },
  {
   "cell_type": "code",
   "execution_count": null,
   "metadata": {},
   "outputs": [],
   "source": [
    "A = adjacency_matrix(g,Float64)"
   ]
  },
  {
   "cell_type": "code",
   "execution_count": null,
   "metadata": {},
   "outputs": [],
   "source": [
    "Matrix(A)"
   ]
  },
  {
   "cell_type": "code",
   "execution_count": null,
   "metadata": {},
   "outputs": [],
   "source": [
    "spy(A,m=1,color=:black,title=\"Adjacency matrix\",leg=:none,size=(400,400))\n",
    "xlims!(-10,210); ylims!(-10,210)"
   ]
  },
  {
   "cell_type": "code",
   "execution_count": null,
   "metadata": {},
   "outputs": [],
   "source": [
    "sum(A,dims=2)"
   ]
  },
  {
   "cell_type": "markdown",
   "metadata": {},
   "source": [
    "# Example 7.1.5"
   ]
  },
  {
   "cell_type": "markdown",
   "metadata": {},
   "source": [
    "We will use the `Images` package for working with images. We also load here the `TestImages` package for a large library of well-known standard images."
   ]
  },
  {
   "cell_type": "code",
   "execution_count": null,
   "metadata": {},
   "outputs": [],
   "source": [
    "img = testimage(\"peppers\")"
   ]
  },
  {
   "cell_type": "markdown",
   "metadata": {},
   "source": [
    "The details vary by image type, but for the most part an image is an array of color values."
   ]
  },
  {
   "cell_type": "code",
   "execution_count": null,
   "metadata": {},
   "outputs": [],
   "source": [
    "size(img),eltype(img)"
   ]
  },
  {
   "cell_type": "code",
   "execution_count": null,
   "metadata": {},
   "outputs": [],
   "source": [
    "2^8"
   ]
  },
  {
   "cell_type": "markdown",
   "metadata": {},
   "source": [
    "The elements here have four values, for red, green, blue, and alpha (opacity). We can convert each of those \"planes\" into an ordinary matrix."
   ]
  },
  {
   "cell_type": "code",
   "execution_count": null,
   "metadata": {},
   "outputs": [],
   "source": [
    "R = red.(img)"
   ]
  },
  {
   "cell_type": "code",
   "execution_count": null,
   "metadata": {},
   "outputs": [],
   "source": [
    "R[1:5,1:5]"
   ]
  },
  {
   "cell_type": "markdown",
   "metadata": {},
   "source": [
    "The values above go from zero (no red) to one (full red). It may also be convenient to convert the image to grayscale, which has just one \"layer\" from zero (black) to one (white). "
   ]
  },
  {
   "cell_type": "code",
   "execution_count": null,
   "metadata": {},
   "outputs": [],
   "source": [
    "G = Gray.(img)"
   ]
  },
  {
   "cell_type": "code",
   "execution_count": null,
   "metadata": {},
   "outputs": [],
   "source": [
    "A = @. gray(Gray(img))"
   ]
  },
  {
   "cell_type": "code",
   "execution_count": null,
   "metadata": {},
   "outputs": [],
   "source": [
    "A[1:5,1:5]"
   ]
  },
  {
   "cell_type": "markdown",
   "metadata": {},
   "source": [
    "Finally, we can save an image locally for reloading later."
   ]
  },
  {
   "cell_type": "code",
   "execution_count": null,
   "metadata": {},
   "outputs": [],
   "source": [
    "save(\"peppers.png\",Gray.(img))"
   ]
  },
  {
   "cell_type": "code",
   "execution_count": null,
   "metadata": {},
   "outputs": [],
   "source": [
    "load(\"peppers.png\")"
   ]
  },
  {
   "cell_type": "markdown",
   "metadata": {},
   "source": [
    "# Example 7.2.1"
   ]
  },
  {
   "cell_type": "markdown",
   "metadata": {},
   "source": [
    "The `eigvals` command will return just the eigenvalues, as a vector. "
   ]
  },
  {
   "cell_type": "code",
   "execution_count": null,
   "metadata": {},
   "outputs": [],
   "source": [
    "A = pi*ones(2,2)"
   ]
  },
  {
   "cell_type": "code",
   "execution_count": null,
   "metadata": {},
   "outputs": [],
   "source": [
    "lambda = eigvals(A)"
   ]
  },
  {
   "cell_type": "markdown",
   "metadata": {},
   "source": [
    "If we also want the eigenvectors (returned as the matrix $V$), we use `eigen`."
   ]
  },
  {
   "cell_type": "code",
   "execution_count": null,
   "metadata": {},
   "outputs": [],
   "source": [
    "lambda,V = eigen(A)"
   ]
  },
  {
   "cell_type": "code",
   "execution_count": null,
   "metadata": {},
   "outputs": [],
   "source": [
    "lambda"
   ]
  },
  {
   "cell_type": "code",
   "execution_count": null,
   "metadata": {},
   "outputs": [],
   "source": [
    "V"
   ]
  },
  {
   "cell_type": "markdown",
   "metadata": {},
   "source": [
    "We can check the fact that this is an EVD."
   ]
  },
  {
   "cell_type": "code",
   "execution_count": null,
   "metadata": {},
   "outputs": [],
   "source": [
    "D = diagm(0=>lambda)"
   ]
  },
  {
   "cell_type": "code",
   "execution_count": null,
   "metadata": {},
   "outputs": [],
   "source": [
    "D = diagm(lambda)"
   ]
  },
  {
   "cell_type": "code",
   "execution_count": null,
   "metadata": {},
   "outputs": [],
   "source": [
    "D = Diagonal(lambda)"
   ]
  },
  {
   "cell_type": "code",
   "execution_count": null,
   "metadata": {},
   "outputs": [],
   "source": [
    "opnorm( A - V*D/V )      # \"/V\" is like \"*inv(V)\"\""
   ]
  },
  {
   "cell_type": "markdown",
   "metadata": {},
   "source": [
    "Even if the matrix is not diagonalizable, `eigen` will run successfully, but the matrix ${V}$ will not be invertible."
   ]
  },
  {
   "cell_type": "code",
   "execution_count": null,
   "metadata": {},
   "outputs": [],
   "source": [
    "lambda,V = eigen([1 1;0 1])"
   ]
  },
  {
   "cell_type": "code",
   "execution_count": null,
   "metadata": {},
   "outputs": [],
   "source": [
    "rank(V)"
   ]
  },
  {
   "cell_type": "markdown",
   "metadata": {},
   "source": [
    "# Example 7.2.2"
   ]
  },
  {
   "cell_type": "markdown",
   "metadata": {},
   "source": [
    "We will confirm the Bauer-Fike theorem on a triangular matrix. These tend to be far from normal. "
   ]
  },
  {
   "cell_type": "code",
   "execution_count": 4,
   "metadata": {},
   "outputs": [
    {
     "data": {
      "text/plain": [
       "15×15 Array{Float64,2}:\n",
       " 1.0  2.0  3.0  4.0  5.0  6.0  7.0  …  10.0  11.0  12.0  13.0  14.0  15.0\n",
       " 0.0  2.0  3.0  4.0  5.0  6.0  7.0     10.0  11.0  12.0  13.0  14.0  15.0\n",
       " 0.0  0.0  3.0  4.0  5.0  6.0  7.0     10.0  11.0  12.0  13.0  14.0  15.0\n",
       " 0.0  0.0  0.0  4.0  5.0  6.0  7.0     10.0  11.0  12.0  13.0  14.0  15.0\n",
       " 0.0  0.0  0.0  0.0  5.0  6.0  7.0     10.0  11.0  12.0  13.0  14.0  15.0\n",
       " 0.0  0.0  0.0  0.0  0.0  6.0  7.0  …  10.0  11.0  12.0  13.0  14.0  15.0\n",
       " 0.0  0.0  0.0  0.0  0.0  0.0  7.0     10.0  11.0  12.0  13.0  14.0  15.0\n",
       " 0.0  0.0  0.0  0.0  0.0  0.0  0.0     10.0  11.0  12.0  13.0  14.0  15.0\n",
       " 0.0  0.0  0.0  0.0  0.0  0.0  0.0     10.0  11.0  12.0  13.0  14.0  15.0\n",
       " 0.0  0.0  0.0  0.0  0.0  0.0  0.0     10.0  11.0  12.0  13.0  14.0  15.0\n",
       " 0.0  0.0  0.0  0.0  0.0  0.0  0.0  …   0.0  11.0  12.0  13.0  14.0  15.0\n",
       " 0.0  0.0  0.0  0.0  0.0  0.0  0.0      0.0   0.0  12.0  13.0  14.0  15.0\n",
       " 0.0  0.0  0.0  0.0  0.0  0.0  0.0      0.0   0.0   0.0  13.0  14.0  15.0\n",
       " 0.0  0.0  0.0  0.0  0.0  0.0  0.0      0.0   0.0   0.0   0.0  14.0  15.0\n",
       " 0.0  0.0  0.0  0.0  0.0  0.0  0.0      0.0   0.0   0.0   0.0   0.0  15.0"
      ]
     },
     "execution_count": 4,
     "metadata": {},
     "output_type": "execute_result"
    }
   ],
   "source": [
    "n = 15\n",
    "lambda = 1:n\n",
    "A = triu( ones(n)*lambda' )"
   ]
  },
  {
   "cell_type": "markdown",
   "metadata": {},
   "source": [
    "The Bauer-Fike theorem provides an upper bound on the condition number of these eigenvalues."
   ]
  },
  {
   "cell_type": "code",
   "execution_count": 5,
   "metadata": {},
   "outputs": [
    {
     "data": {
      "text/plain": [
       "Eigen{Float64,Float64,Array{Float64,2},Array{Float64,1}}\n",
       "values:\n",
       "15-element Array{Float64,1}:\n",
       "  1.0\n",
       "  2.0\n",
       "  3.0\n",
       "  4.0\n",
       "  5.0\n",
       "  6.0\n",
       "  7.0\n",
       "  8.0\n",
       "  9.0\n",
       " 10.0\n",
       " 11.0\n",
       " 12.0\n",
       " 13.0\n",
       " 14.0\n",
       " 15.0\n",
       "vectors:\n",
       "15×15 Array{Float64,2}:\n",
       " 1.0  0.894427  0.818182  0.764291   0.723814   …  0.55868      0.548957\n",
       " 0.0  0.447214  0.545455  0.573219   0.579051      0.518774     0.51236\n",
       " 0.0  0.0       0.181818  0.286609   0.347431      0.444663     0.444045\n",
       " 0.0  0.0       0.0       0.0716523  0.138972      0.349378     0.355236\n",
       " 0.0  0.0       0.0       0.0        0.0277944     0.249556     0.260506\n",
       " 0.0  0.0       0.0       0.0        0.0        …  0.160429     0.173671\n",
       " 0.0  0.0       0.0       0.0        0.0           0.0916736    0.104203\n",
       " 0.0  0.0       0.0       0.0        0.0           0.0458368    0.0555747\n",
       " 0.0  0.0       0.0       0.0        0.0           0.0196443    0.0259349\n",
       " 0.0  0.0       0.0       0.0        0.0           0.00701584   0.0103739\n",
       " 0.0  0.0       0.0       0.0        0.0        …  0.00200453   0.00345798\n",
       " 0.0  0.0       0.0       0.0        0.0           0.000429541  0.000922129\n",
       " 0.0  0.0       0.0       0.0        0.0           6.1363e-5    0.000184426\n",
       " 0.0  0.0       0.0       0.0        0.0           4.38307e-6   2.45901e-5\n",
       " 0.0  0.0       0.0       0.0        0.0           0.0          1.63934e-6"
      ]
     },
     "execution_count": 5,
     "metadata": {},
     "output_type": "execute_result"
    }
   ],
   "source": [
    "lambda,V = eigen(A)"
   ]
  },
  {
   "cell_type": "code",
   "execution_count": 6,
   "metadata": {},
   "outputs": [
    {
     "data": {
      "text/plain": [
       "7.197767264538044e7"
      ]
     },
     "execution_count": 6,
     "metadata": {},
     "output_type": "execute_result"
    }
   ],
   "source": [
    "cond(V)"
   ]
  },
  {
   "cell_type": "markdown",
   "metadata": {},
   "source": [
    "The theorem suggests that eigenvalue changes may be up to 7 orders of magnitude larger than a perturbation to the matrix. A few random experiments show that effects of nearly that size are not hard to observe."
   ]
  },
  {
   "cell_type": "code",
   "execution_count": 7,
   "metadata": {},
   "outputs": [
    {
     "name": "stdout",
     "output_type": "stream",
     "text": [
      "max_change = norm(sort(mu) - lambda, Inf) = 0.18143431860797676\n",
      "max_change = norm(sort(mu) - lambda, Inf) = 0.07242703210584445\n",
      "max_change = norm(sort(mu) - lambda, Inf) = 0.22013074346389772\n"
     ]
    }
   ],
   "source": [
    "for k = 1:3\n",
    "    E = randn(n,n);  E = 1e-7*E/opnorm(E)\n",
    "    mu = eigvals(A+E)\n",
    "    @show max_change = norm( sort(mu)-lambda, Inf )\n",
    "end"
   ]
  },
  {
   "cell_type": "code",
   "execution_count": 9,
   "metadata": {},
   "outputs": [
    {
     "data": {
      "text/plain": [
       "15-element Array{Float64,1}:\n",
       "  0.9999999477785514\n",
       "  2.00000009704959\n",
       "  2.9999991383777016\n",
       "  4.000004744854077\n",
       "  4.999958818573337\n",
       "  6.000436758810212\n",
       "  6.997136390045077\n",
       "  8.01251775242734\n",
       "  8.964171489808939\n",
       " 10.085424790249233\n",
       " 10.876617644386236\n",
       " 12.135354549245463\n",
       " 12.898638853903114\n",
       " 14.03674057002064\n",
       " 14.992998399159818"
      ]
     },
     "execution_count": 9,
     "metadata": {},
     "output_type": "execute_result"
    }
   ],
   "source": [
    "E = randn(n,n);  E = 1e-7*E/opnorm(E)\n",
    "mu = eigvals(A+E)"
   ]
  },
  {
   "cell_type": "code",
   "execution_count": 10,
   "metadata": {},
   "outputs": [
    {
     "data": {
      "text/plain": [
       "15×15 Array{Float64,2}:\n",
       " 0.0  0.0  0.0  4.44089e-16   0.0          …  -1.77636e-15   1.77636e-15\n",
       " 0.0  0.0  0.0  0.0           0.0             -1.77636e-15   0.0\n",
       " 0.0  0.0  0.0  0.0          -4.44089e-16     -8.88178e-16   8.88178e-16\n",
       " 0.0  0.0  0.0  0.0           0.0              0.0           8.88178e-16\n",
       " 0.0  0.0  0.0  0.0           0.0              4.44089e-16   0.0\n",
       " 0.0  0.0  0.0  0.0           0.0          …   4.44089e-16  -4.44089e-16\n",
       " 0.0  0.0  0.0  0.0           0.0              2.22045e-16  -2.22045e-16\n",
       " 0.0  0.0  0.0  0.0           0.0              1.11022e-16   0.0\n",
       " 0.0  0.0  0.0  0.0           0.0              5.55112e-17   0.0\n",
       " 0.0  0.0  0.0  0.0           0.0              0.0           0.0\n",
       " 0.0  0.0  0.0  0.0           0.0          …   0.0           6.93889e-18\n",
       " 0.0  0.0  0.0  0.0           0.0             -8.67362e-19  -1.73472e-18\n",
       " 0.0  0.0  0.0  0.0           0.0              1.0842e-19   -4.33681e-19\n",
       " 0.0  0.0  0.0  0.0           0.0              0.0           0.0\n",
       " 0.0  0.0  0.0  0.0           0.0              0.0           0.0"
      ]
     },
     "execution_count": 10,
     "metadata": {},
     "output_type": "execute_result"
    }
   ],
   "source": [
    "R = A*V - V*Diagonal(lambda)"
   ]
  },
  {
   "cell_type": "code",
   "execution_count": 16,
   "metadata": {},
   "outputs": [
    {
     "data": {
      "text/plain": [
       "15-element Array{Float64,1}:\n",
       " 0.0\n",
       " 0.0\n",
       " 0.0\n",
       " 3.1964507771933465e-8\n",
       " 3.1964507771933465e-8\n",
       " 7.147481224536357e-8\n",
       " 4.7946761657900204e-8\n",
       " 3.221326255685248e-8\n",
       " 7.194788410504182e-8\n",
       " 9.181105868081176e-8\n",
       " 1.0266853801296425e-7\n",
       " 9.754956948861239e-8\n",
       " 1.0117938930778933e-7\n",
       " 1.978913585908047e-7\n",
       " 1.6062049177275957e-7"
      ]
     },
     "execution_count": 16,
     "metadata": {},
     "output_type": "execute_result"
    }
   ],
   "source": [
    "[cond(V)*norm(R[:,i])/norm(V[:,i]) for i=1:n]"
   ]
  },
  {
   "cell_type": "code",
   "execution_count": 18,
   "metadata": {},
   "outputs": [
    {
     "data": {
      "text/plain": [
       "15-element Array{Float64,1}:\n",
       " 0.0\n",
       " 0.0\n",
       " 0.0\n",
       " 0.0\n",
       " 0.0\n",
       " 0.0\n",
       " 0.0\n",
       " 0.0\n",
       " 0.0\n",
       " 0.0\n",
       " 0.0\n",
       " 0.0\n",
       " 0.0\n",
       " 0.0\n",
       " 0.0"
      ]
     },
     "execution_count": 18,
     "metadata": {},
     "output_type": "execute_result"
    }
   ],
   "source": [
    "lambda - collect(1:n)"
   ]
  },
  {
   "cell_type": "markdown",
   "metadata": {},
   "source": [
    "# Example 7.2.3"
   ]
  },
  {
   "cell_type": "markdown",
   "metadata": {},
   "source": [
    "Let's start with a known set of eigenvalues and an orthogonal eigenvector basis."
   ]
  },
  {
   "cell_type": "code",
   "execution_count": 52,
   "metadata": {},
   "outputs": [
    {
     "data": {
      "text/plain": [
       "5×5 Array{Int64,2}:\n",
       " -6   0  0  0  0\n",
       "  0  -1  0  0  0\n",
       "  0   0  2  0  0\n",
       "  0   0  0  4  0\n",
       "  0   0  0  0  5"
      ]
     },
     "execution_count": 52,
     "metadata": {},
     "output_type": "execute_result"
    }
   ],
   "source": [
    "D = diagm([-6,-1,2,4,5])"
   ]
  },
  {
   "cell_type": "code",
   "execution_count": 53,
   "metadata": {},
   "outputs": [
    {
     "data": {
      "text/plain": [
       "5×5 Symmetric{Float64,Array{Float64,2}}:\n",
       "  0.574502   1.34308    0.304273  -0.302506   1.31849\n",
       "  1.34308    2.87859   -1.26239    0.167233  -1.82041\n",
       "  0.304273  -1.26239    2.73478   -2.45381   -3.24429\n",
       " -0.302506   0.167233  -2.45381   -1.70459   -2.48482\n",
       "  1.31849   -1.82041   -3.24429   -2.48482   -0.483273"
      ]
     },
     "execution_count": 53,
     "metadata": {},
     "output_type": "execute_result"
    }
   ],
   "source": [
    "V,_ = qr(randn(5,5))  # compute a random orthogonal matrix V\n",
    "A = Symmetric(V*D*V')    # note that V' = inv(V)"
   ]
  },
  {
   "cell_type": "code",
   "execution_count": 54,
   "metadata": {},
   "outputs": [
    {
     "data": {
      "text/plain": [
       "true"
      ]
     },
     "execution_count": 54,
     "metadata": {},
     "output_type": "execute_result"
    }
   ],
   "source": [
    "issymmetric(A)"
   ]
  },
  {
   "cell_type": "code",
   "execution_count": 55,
   "metadata": {},
   "outputs": [
    {
     "data": {
      "text/plain": [
       "5-element Array{Float64,1}:\n",
       " -6.0000000000000036\n",
       " -0.9999999999999972\n",
       "  1.9999999999999987\n",
       "  4.000000000000002\n",
       "  5.0"
      ]
     },
     "execution_count": 55,
     "metadata": {},
     "output_type": "execute_result"
    }
   ],
   "source": [
    "eigvals(A)"
   ]
  },
  {
   "cell_type": "markdown",
   "metadata": {},
   "source": [
    "Now we will take the QR factorization and just reverse the factors."
   ]
  },
  {
   "cell_type": "code",
   "execution_count": 56,
   "metadata": {},
   "outputs": [
    {
     "data": {
      "text/plain": [
       "5×5 Symmetric{Float64,Array{Float64,2}}:\n",
       "  0.280212   2.57334   0.475992  -1.95816    1.7479\n",
       "  2.57334    2.02614  -1.51132    2.07886   -1.70359\n",
       "  0.475992  -1.51132   3.06945    2.90886   -1.01507\n",
       " -1.95816    2.07886   2.90886   -1.64607   -0.260941\n",
       "  1.7479    -1.70359  -1.01507   -0.260941   0.270265"
      ]
     },
     "execution_count": 56,
     "metadata": {},
     "output_type": "execute_result"
    }
   ],
   "source": [
    "Q,R = qr(A)\n",
    "A = Symmetric(R*Q)"
   ]
  },
  {
   "cell_type": "markdown",
   "metadata": {},
   "source": [
    "It turns out that this is a similarity transformation, so the eigenvalues are unchanged."
   ]
  },
  {
   "cell_type": "code",
   "execution_count": 57,
   "metadata": {},
   "outputs": [
    {
     "data": {
      "text/plain": [
       "5-element Array{Float64,1}:\n",
       " -5.999999999999998\n",
       " -0.9999999999999993\n",
       "  1.9999999999999996\n",
       "  3.999999999999999\n",
       "  4.999999999999997"
      ]
     },
     "execution_count": 57,
     "metadata": {},
     "output_type": "execute_result"
    }
   ],
   "source": [
    "eigvals(A)"
   ]
  },
  {
   "cell_type": "markdown",
   "metadata": {},
   "source": [
    "What's remarkable is that if we repeat the transformation many times, the process converges to $D$. "
   ]
  },
  {
   "cell_type": "code",
   "execution_count": 58,
   "metadata": {},
   "outputs": [
    {
     "data": {
      "text/plain": [
       "5×5 Symmetric{Float64,Array{Float64,2}}:\n",
       " -6.0          -0.00486335    6.28528e-7   -1.0123e-18   -3.96294e-31\n",
       " -0.00486335    5.0          -0.00023094   -1.26511e-16  -2.71143e-29\n",
       "  6.28528e-7   -0.00023094    4.0          -1.9083e-12    8.02741e-26\n",
       " -1.0123e-18   -1.26511e-16  -1.9083e-12    2.0           2.1603e-12\n",
       " -3.96294e-31  -2.71143e-29   8.02741e-26   2.1603e-12   -1.0"
      ]
     },
     "execution_count": 58,
     "metadata": {},
     "output_type": "execute_result"
    }
   ],
   "source": [
    "for k = 1:40\n",
    "    Q,R = qr(A)\n",
    "    A = Symmetric(R*Q)\n",
    "end\n",
    "A"
   ]
  },
  {
   "cell_type": "markdown",
   "metadata": {},
   "source": [
    "# Example 7.3.2"
   ]
  },
  {
   "cell_type": "markdown",
   "metadata": {},
   "source": [
    "We verify some of the fundamental SVD properties using the built-in Julia command `svd`."
   ]
  },
  {
   "cell_type": "code",
   "execution_count": null,
   "metadata": {},
   "outputs": [],
   "source": [
    "A = [i^j for i=1:5, j=0:3]"
   ]
  },
  {
   "cell_type": "code",
   "execution_count": null,
   "metadata": {},
   "outputs": [],
   "source": [
    "U,sigma,V = svd(A);"
   ]
  },
  {
   "cell_type": "markdown",
   "metadata": {},
   "source": [
    "Note that while the \"full\" SVD has a square $U$, the \"thin\" form is the default. Here the columns are orthonormal even though $U$ is not square."
   ]
  },
  {
   "cell_type": "code",
   "execution_count": null,
   "metadata": {},
   "outputs": [],
   "source": [
    "@show size(U),opnorm(U'*U - I);"
   ]
  },
  {
   "cell_type": "code",
   "execution_count": null,
   "metadata": {},
   "outputs": [],
   "source": [
    "@show size(V),opnorm(V'*V - I);"
   ]
  },
  {
   "cell_type": "code",
   "execution_count": null,
   "metadata": {},
   "outputs": [],
   "source": [
    "sigma"
   ]
  },
  {
   "cell_type": "code",
   "execution_count": null,
   "metadata": {},
   "outputs": [],
   "source": [
    "@show opnorm(A),sigma[1];"
   ]
  },
  {
   "cell_type": "code",
   "execution_count": null,
   "metadata": {},
   "outputs": [],
   "source": [
    "@show cond(A), sigma[1]/sigma[end];"
   ]
  },
  {
   "cell_type": "markdown",
   "metadata": {},
   "source": [
    "# Example 7.4.1"
   ]
  },
  {
   "cell_type": "markdown",
   "metadata": {},
   "source": [
    "The following matrix is not hermitian."
   ]
  },
  {
   "cell_type": "code",
   "execution_count": null,
   "metadata": {},
   "outputs": [],
   "source": [
    "A = [0 2; -2 0]"
   ]
  },
  {
   "cell_type": "markdown",
   "metadata": {},
   "source": [
    "It has an eigenvalue decomposition with a unitary matrix of eigenvectors, though, so it is normal. "
   ]
  },
  {
   "cell_type": "code",
   "execution_count": null,
   "metadata": {},
   "outputs": [],
   "source": [
    "lambda,V = eigen(A)\n",
    "opnorm( V'*V - I )"
   ]
  },
  {
   "cell_type": "markdown",
   "metadata": {},
   "source": [
    "The eigenvalues are pure imaginary."
   ]
  },
  {
   "cell_type": "code",
   "execution_count": null,
   "metadata": {},
   "outputs": [],
   "source": [
    "lambda"
   ]
  },
  {
   "cell_type": "markdown",
   "metadata": {},
   "source": [
    "The singular values are the complex magnitudes of the eigenvalues."
   ]
  },
  {
   "cell_type": "code",
   "execution_count": null,
   "metadata": {},
   "outputs": [],
   "source": [
    "svdvals(A)"
   ]
  },
  {
   "cell_type": "markdown",
   "metadata": {},
   "source": [
    "# Example 7.4.2"
   ]
  },
  {
   "cell_type": "markdown",
   "metadata": {},
   "source": [
    "We construct a real symmetric matrix with known eigenvalues by using the QR factorization to produce a random orthogonal set of eigenvectors. "
   ]
  },
  {
   "cell_type": "code",
   "execution_count": null,
   "metadata": {},
   "outputs": [],
   "source": [
    "n = 30;\n",
    "lambda = 1:n \n",
    "\n",
    "D = diagm(0=>lambda)\n",
    "V,R = qr(randn(n,n))   # get a random orthogonal V\n",
    "A = V*D*V';"
   ]
  },
  {
   "cell_type": "markdown",
   "metadata": {},
   "source": [
    "The condition number of these eigenvalues is one. Thus the effect on them is bounded by the norm of the perturbation to $A$. "
   ]
  },
  {
   "cell_type": "code",
   "execution_count": null,
   "metadata": {},
   "outputs": [],
   "source": [
    "for k = 1:3\n",
    "    E = randn(n,n); E = 1e-4*E/opnorm(E);\n",
    "    mu = sort(eigvals(A+E))\n",
    "    @show max_change = norm(mu-lambda,Inf)\n",
    "end"
   ]
  },
  {
   "cell_type": "markdown",
   "metadata": {},
   "source": [
    "# Example 7.4.3"
   ]
  },
  {
   "cell_type": "markdown",
   "metadata": {},
   "source": [
    "We construct a symmetric matrix with a known EVD."
   ]
  },
  {
   "cell_type": "code",
   "execution_count": null,
   "metadata": {},
   "outputs": [],
   "source": [
    "n = 20;\n",
    "lambda = 1:n \n",
    "\n",
    "D = diagm(0=>lambda)\n",
    "V,R = qr(randn(n,n))   # get a random orthogonal V\n",
    "A = V*D*V';"
   ]
  },
  {
   "cell_type": "markdown",
   "metadata": {},
   "source": [
    "The Rayleigh quotient of an eigenvector is its eigenvalue."
   ]
  },
  {
   "cell_type": "code",
   "execution_count": null,
   "metadata": {},
   "outputs": [],
   "source": [
    "R = x -> (x'*A*x)/(x'*x);\n",
    "R(V[:,7])"
   ]
  },
  {
   "cell_type": "markdown",
   "metadata": {},
   "source": [
    "The Rayleigh quotient's value is much closer to an eigenvalue than its input is to an eigenvector. In this experiment, each additional digit of accuracy in the eigenvector estimate gives two more digits to the eigenvalue estimate."
   ]
  },
  {
   "cell_type": "code",
   "execution_count": null,
   "metadata": {},
   "outputs": [],
   "source": [
    "delta = @. 1 ./10^(1:4)\n",
    "quotient = zeros(size(delta))\n",
    "for (k,delta) = enumerate(delta)\n",
    "    e = randn(n);  e = delta*e/norm(e);\n",
    "    x = V[:,7] + e\n",
    "    quotient[k] = R(x)\n",
    "end\n",
    "DataFrame(perturbation=delta,RQminus7=quotient.-7)"
   ]
  },
  {
   "cell_type": "markdown",
   "metadata": {},
   "source": [
    "# Example 7.5.1"
   ]
  },
  {
   "cell_type": "markdown",
   "metadata": {},
   "source": [
    "We make an image from some text, then reload it as a matrix."
   ]
  },
  {
   "cell_type": "code",
   "execution_count": null,
   "metadata": {},
   "outputs": [],
   "source": [
    "plot([],[],leg=:none,annotations=(0.5,0.5,text(\"Hello world\",44,:center,:middle)),\n",
    "    grid=:none,frame=:none)"
   ]
  },
  {
   "cell_type": "code",
   "execution_count": null,
   "metadata": {},
   "outputs": [],
   "source": [
    "savefig(\"hello.png\")\n",
    "img = load(\"hello.png\")\n",
    "A = @. Float64(Gray(img));\n",
    "@show m,n = size(A);"
   ]
  },
  {
   "cell_type": "markdown",
   "metadata": {},
   "source": [
    "Next we show that the singular values decrease exponentially, until they reach zero (more precisely, are about $\\sigma_1 \\varepsilon_\\text{mach}$). For all numerical purposes, this determines the rank of the matrix."
   ]
  },
  {
   "cell_type": "code",
   "execution_count": null,
   "metadata": {},
   "outputs": [],
   "source": [
    "U,sigma,V = svd(A)\n",
    "scatter(sigma,\n",
    "    title=\"Singular values\",xaxis=(L\"i\"), yaxis=(:log10,L\"\\sigma_i\"),leg=:none )"
   ]
  },
  {
   "cell_type": "code",
   "execution_count": null,
   "metadata": {},
   "outputs": [],
   "source": [
    "r = findlast(@.sigma/sigma[1] > 10*eps())"
   ]
  },
  {
   "cell_type": "markdown",
   "metadata": {},
   "source": [
    "The rapid decrease suggests that we can get fairly good low-rank approximations. "
   ]
  },
  {
   "cell_type": "code",
   "execution_count": null,
   "metadata": {},
   "outputs": [],
   "source": [
    "Ak = [ U[:,1:k]*diagm(0=>sigma[1:k])*V[:,1:k]' for k=2*(1:4) ]\n",
    "reshape( [ @.Gray(Ak[i]) for i=1:4 ],2,2)"
   ]
  },
  {
   "cell_type": "markdown",
   "metadata": {},
   "source": [
    "Consider how little data is needed to reconstruct these images. For rank 8, for instance, we have 8 left and right singular vectors plus 8 singular values, for a compression ratio of better than 25:1.  "
   ]
  },
  {
   "cell_type": "code",
   "execution_count": null,
   "metadata": {},
   "outputs": [],
   "source": [
    "compression = 8*(m+n+1) / (m*n)"
   ]
  },
  {
   "cell_type": "markdown",
   "metadata": {},
   "source": [
    "# Example 7.5.2"
   ]
  },
  {
   "cell_type": "markdown",
   "metadata": {},
   "source": [
    "This matrix describes the votes on bills in the 111th session of the United States Senate. (The data set was obtained from voteview.com.) Each row is one senator and each column is a vote item."
   ]
  },
  {
   "cell_type": "code",
   "execution_count": null,
   "metadata": {},
   "outputs": [],
   "source": [
    "vars = load(\"voting.jld\")\n",
    "A = vars[\"A\"]\n",
    "m,n = size(A)"
   ]
  },
  {
   "cell_type": "markdown",
   "metadata": {},
   "source": [
    "If we visualize the votes (white is \"yea,\" black is \"nay,\" and gray is anything else), we can see great similarity between many rows, reflecting party unity."
   ]
  },
  {
   "cell_type": "code",
   "execution_count": null,
   "metadata": {},
   "outputs": [],
   "source": [
    "heatmap(A,color=:viridis,\n",
    "    title=\"Votes in 111th U.S. Senate\",xlabel=\"bill\",ylabel=\"senator\")"
   ]
  },
  {
   "cell_type": "markdown",
   "metadata": {},
   "source": [
    "We use singular value \"energy\" to quantify the decay rate of the values. "
   ]
  },
  {
   "cell_type": "code",
   "execution_count": null,
   "metadata": {},
   "outputs": [],
   "source": [
    "U,sigma,V = svd(A)\n",
    "tau = cumsum(sigma.^2) / sum(sigma.^2)\n",
    "scatter(tau[1:16],label=\"\",\n",
    "    xaxis=(\"k\"), yaxis=(L\"\\tau_k\"), title=\"Fraction of singular value energy\")"
   ]
  },
  {
   "cell_type": "markdown",
   "metadata": {},
   "source": [
    "The first and second singular triples contain about 58% and 17% respectively of the energy of the matrix. All others have far less effect, suggesting that the information is primarily two-dimensional. The first left and right singular vectors also contain interesting structure."
   ]
  },
  {
   "cell_type": "code",
   "execution_count": null,
   "metadata": {},
   "outputs": [],
   "source": [
    "scatter( U[:,1],label=\"\",layout=(1,2),\n",
    "    xlabel=\"senator\" ,title=\"left singular vector\")\n",
    "scatter!( V[:,1],label=\"\",subplot=2,\n",
    "    xlabel=\"bill\",title=\"right singular vector\")"
   ]
  },
  {
   "cell_type": "markdown",
   "metadata": {},
   "source": [
    "Both vectors have values greatly clustered near $\\pm C$  for a constant $C$. These can be roughly interpreted as how partisan a particular senator or bill was, and for which political party.   Projecting the senators' vectors into the first two $\\V$-coordinates gives a particularly nice way to reduce them to two dimensions. Political scientists label these dimensions \"partisanship\" and \"bipartisanship.\" Here we color them by actual party affiliation (also given in the data file): red for Republican, blue for Democrat, and yellow for independent. "
   ]
  },
  {
   "cell_type": "code",
   "execution_count": null,
   "metadata": {},
   "outputs": [],
   "source": [
    "x1 = A*V[:,1];   x2 = A*V[:,2];\n",
    "\n",
    "Rep = vec(vars[\"Rep\"]); Dem = vec(vars[\"Dem\"]);  Ind = vec(vars[\"Ind\"]);\n",
    "scatter(x1[Dem],x2[Dem],color=:blue,label=\"D\",\n",
    "    xaxis=(\"partisanship\"),yaxis=(\"bipartisanship\"),title=\"111th US Senate in 2D\" )\n",
    "scatter!(x1[Rep],x2[Rep],color=:red,label=\"R\")\n",
    "scatter!(x1[Ind],x2[Ind],color=:yellow,label=\"I\")"
   ]
  }
 ],
 "metadata": {
  "@webio": {
   "lastCommId": null,
   "lastKernelId": null
  },
  "kernelspec": {
   "display_name": "Julia 1.5.2",
   "language": "julia",
   "name": "julia-1.5"
  },
  "language_info": {
   "file_extension": ".jl",
   "mimetype": "application/julia",
   "name": "julia",
   "version": "1.5.2"
  },
  "toc": {
   "base_numbering": 1,
   "nav_menu": {},
   "number_sections": true,
   "sideBar": true,
   "skip_h1_title": false,
   "title_cell": "Table of Contents",
   "title_sidebar": "Contents",
   "toc_cell": false,
   "toc_position": {},
   "toc_section_display": true,
   "toc_window_display": false
  }
 },
 "nbformat": 4,
 "nbformat_minor": 2
}
